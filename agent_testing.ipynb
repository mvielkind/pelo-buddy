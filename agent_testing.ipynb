{
 "cells": [
  {
   "cell_type": "code",
   "execution_count": 1,
   "id": "5c1dfa72-460b-44c7-92f3-3e974f1de922",
   "metadata": {},
   "outputs": [
    {
     "data": {
      "text/plain": [
       "True"
      ]
     },
     "execution_count": 1,
     "metadata": {},
     "output_type": "execute_result"
    }
   ],
   "source": [
    "import os\n",
    "import json\n",
    "from dotenv import load_dotenv\n",
    "load_dotenv()"
   ]
  },
  {
   "cell_type": "code",
   "execution_count": 2,
   "id": "df674d42-8923-4e3d-93ec-8e26535636c3",
   "metadata": {},
   "outputs": [],
   "source": [
    "# Define the language model to use.\n",
    "from langchain.chat_models import ChatOpenAI\n",
    "\n",
    "llm = ChatOpenAI(model=\"gpt-4-1106-preview\", temperature=0)"
   ]
  },
  {
   "cell_type": "code",
   "execution_count": 20,
   "id": "9d9d58fc-a837-4732-b581-3fcc1667dbd4",
   "metadata": {},
   "outputs": [],
   "source": [
    "# Define the tools to use.\n",
    "import json\n",
    "import datetime\n",
    "from collections import defaultdict\n",
    "from langchain.agents import tool\n",
    "from typing import Dict, Text, Any, List\n",
    "from pydantic.v1 import BaseModel, Field\n",
    "from langchain.tools.render import format_tool_to_openai_function\n",
    "\n",
    "\n",
    "\n",
    "@tool\n",
    "def get_word_length(word: str) -> int:\n",
    "    \"\"\"Returns the length of a word.\"\"\"\n",
    "    return len(word)\n",
    "\n",
    "\n",
    "@tool(return_direct=False)\n",
    "def get_peloton_classes() -> str:\n",
    "    \"\"\"Get recent Peloton classes.\"\"\"\n",
    "    response = json.load(open(\"peloton_classes.json\", \"r\"))\n",
    "\n",
    "    today = datetime.datetime.today().date()\n",
    "    recent_classes = []\n",
    "    # Create the instructors lookup.\n",
    "    instructors = {i['id']: i['name'] for i in response['instructors']}\n",
    "    for w in response['data']:\n",
    "        workout_date = datetime.datetime.fromtimestamp(w['original_air_time']).date()\n",
    "\n",
    "        if (today - workout_date).days > 14:\n",
    "            break\n",
    "\n",
    "        recent_classes.append(\n",
    "            {\n",
    "                'id': w['id'],\n",
    "                'description': w['description'],\n",
    "                'difficulty': w['difficulty_estimate'],\n",
    "                'duration': w['duration'],\n",
    "                'instructor': instructors[w['instructor_id']],\n",
    "                'title': w['title'],\n",
    "                'disciplie': w['fitness_discipline_display_name']\n",
    "            }\n",
    "        )\n",
    "    return json.dumps(recent_classes)\n",
    "\n",
    "\n",
    "@tool(return_direct=False)\n",
    "def get_recent_user_workouts() -> str:\n",
    "    \"\"\"Get the user's Peloton workouts from the past week.\"\"\"\n",
    "    response = json.load(open(\"user_workouts.json\", \"r\"))\n",
    "\n",
    "    today = datetime.datetime.today().date()\n",
    "    recent_workouts = defaultdict(list)\n",
    "    for w in response['data']:\n",
    "        workout_date = datetime.datetime.fromtimestamp(w['created_at']).date()\n",
    "\n",
    "        # Only get workouts from the last 7 days.\n",
    "        if (today - workout_date).days > 14:\n",
    "            break\n",
    "\n",
    "        if 'ride' in w:\n",
    "            title = w['ride']['title']\n",
    "        elif 'peloton' in w:\n",
    "            title = w['peloton']['ride']['title']\n",
    "        else:\n",
    "            title = \"Unknown\"\n",
    "            \n",
    "        lbl = f\"{workout_date}: {title}\"\n",
    "\n",
    "        recent_workouts[str(workout_date)].append(lbl)\n",
    "\n",
    "    return json.dumps(recent_workouts)\n",
    "\n",
    "\n",
    "class StackInput(BaseModel):\n",
    "    recommended_workout: List[Dict[Text, Any]] = Field(description=\"the list of recommended classes.\")\n",
    "\n",
    "\n",
    "@tool\n",
    "def add_class_to_stack(recommended_workout: str):\n",
    "    \"\"\"Allows a user to add selected workout to the Peloton stack if the user explicitly asks to.\n",
    "\n",
    "    recommended_workout: The recommended workout for the user with the class ID for each class in the workout.\n",
    "    \"\"\"\n",
    "    print(recommended_workout)\n",
    "\n",
    "\n",
    "class RecommendInput(BaseModel):\n",
    "    user_input: str = Field(description=\"the user message\")\n",
    "\n",
    "\n",
    "@tool\n",
    "def recommend_workout(user_workouts: str):\n",
    "    \"\"\"Recommend a class for the user.\"\"\"\n",
    "    print(\"USER INPUT\")\n",
    "    print(user_workouts)\n",
    "    return \"This is your recommended class.\"\n",
    "\n",
    "\n",
    "tools = [get_word_length, get_recent_user_workouts, get_peloton_classes, add_class_to_stack]\n",
    "\n"
   ]
  },
  {
   "cell_type": "code",
   "execution_count": 21,
   "id": "98bd7273-5fcf-442c-a0f8-a6b6aba0bbfc",
   "metadata": {},
   "outputs": [],
   "source": [
    "from typing import List, Optional\n",
    "\n",
    "from langchain.utils.openai_functions import convert_pydantic_to_openai_function\n",
    "from pydantic import BaseModel, Field\n",
    "\n",
    "\n",
    "class Response(BaseModel):\n",
    "    \"\"\"Final response returned to the user.\"\"\"\n",
    "\n",
    "    answer: str = Field(description=\"The final answer to respond to the user\")\n",
    "    raw_data: Optional[Dict[Text, Any]] = Field(\n",
    "        description=\"Raw JSON response from the tool if one is provided.\"\n",
    "    )\n",
    "\n",
    "# tools.append(convert_pydantic_to_openai_function(Response))\n",
    "# tools"
   ]
  },
  {
   "cell_type": "code",
   "execution_count": 22,
   "id": "e9c7e353-98e8-4eaa-9de3-af72d6beeb7c",
   "metadata": {},
   "outputs": [],
   "source": [
    "# Tell the LLM about the tools available via `bind`.\n",
    "from langchain.tools.render import format_tool_to_openai_function\n",
    "\n",
    "openai_tools = [format_tool_to_openai_function(t) for t in tools]\n",
    "# openai_tools.append(convert_pydantic_to_openai_function(Response))\n",
    "\n",
    "llm_with_tools = llm.bind(functions=openai_tools)"
   ]
  },
  {
   "cell_type": "code",
   "execution_count": 23,
   "id": "1510e024-62fe-4d08-a615-0e3868df4a43",
   "metadata": {},
   "outputs": [],
   "source": [
    "from langchain.prompts import MessagesPlaceholder, ChatPromptTemplate\n",
    "\n",
    "MEMORY_KEY = \"chat_history\"\n",
    "prompt = ChatPromptTemplate.from_messages(\n",
    "    [\n",
    "        (\n",
    "            \"system\",\n",
    "            \"You are a well qualified personal trainer helping the user to achieve their fitness goals. Chat with the user remembering the following about the user's preferences: the user prefers moderate to high difficulty strength and cyling classes. They do not like barre and pilates. Workouts can consist of 1 or more classes. Unless otherwise instructed the user likes workouts to be 30 minutes long.\",\n",
    "        ),\n",
    "        MessagesPlaceholder(variable_name=MEMORY_KEY),\n",
    "        (\"user\", \"{input}\"),\n",
    "        MessagesPlaceholder(variable_name=\"agent_scratchpad\"),\n",
    "    ]\n",
    ")"
   ]
  },
  {
   "cell_type": "code",
   "execution_count": 24,
   "id": "a34604fd-829c-45cd-93fa-83ec7dec5c33",
   "metadata": {},
   "outputs": [],
   "source": [
    "import json\n",
    "\n",
    "from langchain.schema.agent import AgentActionMessageLog, AgentFinish\n",
    "\n",
    "def parse(output):\n",
    "    # If no function was invoked, return to user\n",
    "    if \"function_call\" not in output.additional_kwargs:\n",
    "        return AgentFinish(return_values={\"output\": output.content}, log=output.content)\n",
    "\n",
    "    # Parse out the function call\n",
    "    function_call = output.additional_kwargs[\"function_call\"]\n",
    "    name = function_call[\"name\"]\n",
    "    inputs = json.loads(function_call[\"arguments\"])\n",
    "\n",
    "    print(name)\n",
    "    \n",
    "    # If the Response function was invoked, return to the user with the function inputs\n",
    "    if name == \"Response\":\n",
    "        return AgentFinish(return_values=inputs, log=str(function_call))\n",
    "    # Otherwise, return an agent action\n",
    "    else:\n",
    "        return AgentActionMessageLog(\n",
    "            tool=name, tool_input=inputs, log=\"\", message_log=[output]\n",
    "        )"
   ]
  },
  {
   "cell_type": "code",
   "execution_count": 25,
   "id": "de3d49e5-72d6-477b-93e9-43b4c1340018",
   "metadata": {},
   "outputs": [],
   "source": [
    "# Define the agent.\n",
    "from langchain.agents.format_scratchpad import format_to_openai_function_messages\n",
    "from langchain.agents.output_parsers import OpenAIFunctionsAgentOutputParser\n",
    "from langchain.schema.messages import AIMessage, HumanMessage\n",
    "from langchain.agents import AgentExecutor\n",
    "\n",
    "chat_history = []\n",
    "\n",
    "agent = (\n",
    "    {\n",
    "        \"input\": lambda x: x[\"input\"],\n",
    "        \"agent_scratchpad\": lambda x: format_to_openai_function_messages(\n",
    "            x[\"intermediate_steps\"]\n",
    "        ),\n",
    "        \"chat_history\": lambda x: x[\"chat_history\"],\n",
    "    }\n",
    "    | prompt\n",
    "    | llm_with_tools\n",
    "    | OpenAIFunctionsAgentOutputParser()\n",
    ")\n",
    "agent_executor = AgentExecutor(agent=agent, tools=tools, verbose=True)"
   ]
  },
  {
   "cell_type": "code",
   "execution_count": 26,
   "id": "ab159c54-e933-4eae-8c7d-169721c0b6d8",
   "metadata": {},
   "outputs": [],
   "source": [
    "from langchain.agents import AgentExecutor\n",
    "\n",
    "chat_history = []\n",
    "agent_executor = AgentExecutor(\n",
    "    agent=agent, \n",
    "    tools=tools, \n",
    "    verbose=True, \n",
    "    return_intermediate_steps=True, \n",
    "    handle_parsing_errors=\"Check your output and make sure it conforms!\"\n",
    ")"
   ]
  },
  {
   "cell_type": "code",
   "execution_count": 27,
   "id": "5d0ae099-ef5b-4efd-9188-0b62bbe6da0b",
   "metadata": {
    "scrolled": true
   },
   "outputs": [
    {
     "name": "stdout",
     "output_type": "stream",
     "text": [
      "\n",
      "\n",
      "\u001b[1m> Entering new AgentExecutor chain...\u001b[0m\n",
      "\u001b[32;1m\u001b[1;3m\n",
      "Invoking: `get_peloton_classes` with `{}`\n",
      "\n",
      "\n",
      "\u001b[0m\u001b[38;5;200m\u001b[1;3m[{\"id\": \"f5bf0720d7bc43a5ae0da0b17cfda975\", \"description\": \"Pick up the pace and get your body moving to an energizing 80s playlist. \", \"difficulty\": 6.564971751412429, \"duration\": 2700, \"instructor\": \"Kirsten Ferguson\", \"title\": \"45 min 80s Walk\", \"disciplie\": \"Walking\"}, {\"id\": \"c5eee5d5c0374089bdb782c385e66b9b\", \"description\": \"Ride along to some of the best tracks of the 2010s. \", \"difficulty\": 6.992063492063492, \"duration\": 1200, \"instructor\": \"Hannah Corbin\", \"title\": \"20 min 2010s Ride\", \"disciplie\": \"Cycling\"}, {\"id\": \"19be447cbee54cacb5fd380092002514\", \"description\": \"Bursts of effort followed by recovery, this ride will challenge your mind and strengthen your body inside and out.\", \"difficulty\": 7.583333333333333, \"duration\": 1200, \"instructor\": \"Hannah Corbin\", \"title\": \"20 min Intervals Ride\", \"disciplie\": \"Cycling\"}, {\"id\": \"9fc58e9c122545238cfdc461603dfee5\", \"description\": \"Split your workout 50/50 between cardio on the Tread and weights on the floor to strengthen your arms and shoulders. This high-impact class keeps your confidence soaring all day long.\", \"difficulty\": 7.071428571428571, \"duration\": 1800, \"instructor\": \"Joslyn Thompson Rule\", \"title\": \"30 min Bootcamp: Upper Body\", \"disciplie\": \"Tread Bootcamp\"}, {\"id\": \"246569305f034faea4a168073e45819c\", \"description\": \"'Tis the season to cheer each other on and celebrate everybody! Exercise and sweat it out to festive tunes that will put you in the holiday spirit.\", \"difficulty\": 7.097643097643098, \"duration\": 1800, \"instructor\": \"Leanne Hainsby\", \"title\": \"30 min Holiday Ride\", \"disciplie\": \"Cycling\"}, {\"id\": \"e73d3e2b6bca4ca189699cbf81fdad26\", \"description\": \"This class is spent primarily in the saddle to give your joints a smooth ride while still giving you a good sweat. Perfect for all levels, especially those recovering from an injury.\", \"difficulty\": 6.208333333333333, \"duration\": 1800, \"instructor\": \"Sam Yo\", \"title\": \"30 min Low Impact Ride\", \"disciplie\": \"Cycling\"}, {\"id\": \"878a88167b7c4df098447e4db3853321\", \"description\": \"Run to the beat of a high-energy EDM playlist with a smile on your face in this fun run.\", \"difficulty\": 7.64, \"duration\": 1800, \"instructor\": \"Olivia Amato\", \"title\": \"30 min EDM Run\", \"disciplie\": \"Running\"}, {\"id\": \"695a051b56a646eaaecddaf1442e0128\", \"description\": \"Join Bradley on this ride, where he shares some of his own personal journey and acknowledges all those with disabilities in recognition of International Day of Persons with Disabilities.\", \"difficulty\": 6.703125, \"duration\": 1200, \"instructor\": \"Bradley Rose\", \"title\": \"20 min Day of Persons with Disabilities\", \"disciplie\": \"Cycling\"}, {\"id\": \"65481999bd1245f2aab5c890619208e1\", \"description\": \"Join Mariana in this 30-minute flow and work out to the music of iconic Latin artists whose influence paved the way for the global positioning of Latin music.\", \"difficulty\": 4.473684210526316, \"duration\": 1800, \"instructor\": \"Mariana Fern\\u00e1ndez\", \"title\": \"30 min \\u00cdconos Latinos Yoga Flow\", \"disciplie\": \"Yoga\"}, {\"id\": \"e4d9ed6b0d8144deb60da39dde187b80\", \"description\": \"Join Rad for this 20-minute class and work out to the music of iconic Latin artists whose influence paved the way for the global positioning of Latin music.\", \"difficulty\": 6.951219512195122, \"duration\": 1200, \"instructor\": \"Rad Lopez\", \"title\": \"20 min \\u00cdconos Latinos Glutes & Legs\", \"disciplie\": \"Strength\"}, {\"id\": \"5fc3791e4687447d8319bd202507e380\", \"description\": \"Run to the beat of a high-energy pop playlist with a smile on your face in this fun run.\", \"difficulty\": 7.496, \"duration\": 1800, \"instructor\": \"Selena Samuela\", \"title\": \"30 min Pop Run\", \"disciplie\": \"Running\"}, {\"id\": \"fbcf49c229fc49ab862694645ea853e8\", \"description\": \"In this power flow class, you will flow at a faster pace. Added poses and repetition of movements will help build strength. This class is recommended for students with previous yoga flow experience.\", \"difficulty\": 5.318181818181818, \"duration\": 1800, \"instructor\": \"Chelsea Jackson Roberts\", \"title\": \"30 min Power Flow\", \"disciplie\": \"Yoga\"}, {\"id\": \"6c3d05d9ae5143e8a7b38e568ba07145\", \"description\": \"Push through heart-pumping intervals mixed with power-building hills. Improve your power and your overall fitness in this high-intensity ride.\", \"difficulty\": 7.977011494252873, \"duration\": 1800, \"instructor\": \"Denis Morton\", \"title\": \"30 min HIIT & Hills Ride\", \"disciplie\": \"Cycling\"}, {\"id\": \"4a7da12de9dd41d0bf22a8bd0b04fb74\", \"description\": \"Get your glazed-donut look on in this hour-long, high-impact bootcamp that combines community, sweat and fun.\", \"difficulty\": 8.181818181818182, \"duration\": 3600, \"instructor\": \"Jess Sims\", \"title\": \"Saturday 60: Pop\", \"disciplie\": \"Tread Bootcamp\"}, {\"id\": \"53ff7ff1d25d40029abd91d835dd42e6\", \"description\": \"Take a ride through the classic tracks of the 80s while you sweat it out on the Bike.\", \"difficulty\": 7.43579766536965, \"duration\": 1800, \"instructor\": \"Robin Arz\\u00f3n\", \"title\": \"30 min 80s Ride\", \"disciplie\": \"Cycling\"}, {\"id\": \"3d889c238ec840cd8d916d08d8ea44f1\", \"description\": \"High intensity intervals training is an effective way to improve heart health, build endurance, strength and speed. Expect bursts of effort followed by active recovery throughout this HIIT run.\", \"difficulty\": 7.891891891891892, \"duration\": 1800, \"instructor\": \"Andy Speer\", \"title\": \"30 min HIIT Run\", \"disciplie\": \"Running\"}, {\"id\": \"a70fcdc51c6c4aeda7e69a5451699d5e\", \"description\": \"Improve your stamina and build aerobic endurance in this class designed around steady state, low intensity intervals.\", \"difficulty\": 7.066666666666666, \"duration\": 1800, \"instructor\": \"Ash Pryor\", \"title\": \"30 min Endurance Row\", \"disciplie\": \"Rowing\"}, {\"id\": \"ddd8a89447ec429fa381dfbf05005032\", \"description\": \"Join Camila for this 30-minute class and work out to the music of iconic Latin artists whose influence paved the way for the global positioning of Latin music.\", \"difficulty\": 7.554858934169279, \"duration\": 1800, \"instructor\": \"Camila Ram\\u00f3n\", \"title\": \"30 min \\u00cdconos Latinos Ride\", \"disciplie\": \"Cycling\"}, {\"id\": \"de82cca0e0284710928a1765b4afe4b3\", \"description\": \"Tis the season to cheer each other on and celebrate everybody! Exercise and sweat it out to festive tunes that will put you in the holiday spirit.\", \"difficulty\": 7.603829160530191, \"duration\": 1800, \"instructor\": \"Rebecca Kennedy\", \"title\": \"30 min Holiday Hike\", \"disciplie\": \"Walking\"}, {\"id\": \"cf5557dc5c6a45ec97d5c8ec10a3acdd\", \"description\": \"Join this cardio workout designed to increase strength and endurance.\", \"difficulty\": 6.473684210526316, \"duration\": 600, \"instructor\": \"Callie Gullickson\", \"title\": \"10 min HIIT Cardio\", \"disciplie\": \"Cardio\"}]\u001b[0m\u001b[32;1m\u001b[1;3mBased on your preferences for moderate to high difficulty strength and cycling classes, I have a couple of recommendations for today's workout. Since you like your workouts to be around 30 minutes long, here are two options:\n",
      "\n",
      "1. **Cycling Focus:**\n",
      "   - Start with \"20 min Intervals Ride\" with Hannah Corbin. This class has bursts of effort followed by recovery and will challenge your mind and body. (Difficulty: 7.58)\n",
      "   - Follow up with \"10 min HIIT Cardio\" with Callie Gullickson to get a quick, high-intensity cardio session. (Difficulty: 6.47)\n",
      "\n",
      "2. **Strength and Cycling Combination:**\n",
      "   - Begin with \"20 min Íconos Latinos Glutes & Legs\" with Rad Lopez for a focused strength session on your lower body. (Difficulty: 6.95)\n",
      "   - Finish with \"10 min HIIT Cardio\" with Callie Gullickson for a burst of high-intensity cardio. (Difficulty: 6.47)\n",
      "\n",
      "Both options will give you a balanced workout within your preferred time frame. Would you like to add one of these options to your Peloton stack, or do you have a different preference for today's workout?\u001b[0m\n",
      "\n",
      "\u001b[1m> Finished chain.\u001b[0m\n"
     ]
    }
   ],
   "source": [
    "input1 = \"What should my workout be today?\"\n",
    "result = agent_executor.invoke({\"input\": input1, \"chat_history\": chat_history})\n",
    "chat_history.extend(\n",
    "    [\n",
    "        HumanMessage(content=input1),\n",
    "        AIMessage(content=result[\"output\"]),\n",
    "    ]\n",
    ")\n",
    "\n",
    "# print(result)"
   ]
  },
  {
   "cell_type": "code",
   "execution_count": null,
   "id": "3564c917-bc9c-42f2-a054-605457e812a3",
   "metadata": {},
   "outputs": [],
   "source": []
  },
  {
   "cell_type": "code",
   "execution_count": 28,
   "id": "2518d316-0d2e-407a-bce2-cc74e55299ff",
   "metadata": {},
   "outputs": [
    {
     "name": "stdout",
     "output_type": "stream",
     "text": [
      "\n",
      "\n",
      "\u001b[1m> Entering new AgentExecutor chain...\u001b[0m\n",
      "\u001b[32;1m\u001b[1;3m\n",
      "Invoking: `get_peloton_classes` with `{}`\n",
      "\n",
      "\n",
      "\u001b[0m\u001b[38;5;200m\u001b[1;3m[{\"id\": \"f5bf0720d7bc43a5ae0da0b17cfda975\", \"description\": \"Pick up the pace and get your body moving to an energizing 80s playlist. \", \"difficulty\": 6.564971751412429, \"duration\": 2700, \"instructor\": \"Kirsten Ferguson\", \"title\": \"45 min 80s Walk\", \"disciplie\": \"Walking\"}, {\"id\": \"c5eee5d5c0374089bdb782c385e66b9b\", \"description\": \"Ride along to some of the best tracks of the 2010s. \", \"difficulty\": 6.992063492063492, \"duration\": 1200, \"instructor\": \"Hannah Corbin\", \"title\": \"20 min 2010s Ride\", \"disciplie\": \"Cycling\"}, {\"id\": \"19be447cbee54cacb5fd380092002514\", \"description\": \"Bursts of effort followed by recovery, this ride will challenge your mind and strengthen your body inside and out.\", \"difficulty\": 7.583333333333333, \"duration\": 1200, \"instructor\": \"Hannah Corbin\", \"title\": \"20 min Intervals Ride\", \"disciplie\": \"Cycling\"}, {\"id\": \"9fc58e9c122545238cfdc461603dfee5\", \"description\": \"Split your workout 50/50 between cardio on the Tread and weights on the floor to strengthen your arms and shoulders. This high-impact class keeps your confidence soaring all day long.\", \"difficulty\": 7.071428571428571, \"duration\": 1800, \"instructor\": \"Joslyn Thompson Rule\", \"title\": \"30 min Bootcamp: Upper Body\", \"disciplie\": \"Tread Bootcamp\"}, {\"id\": \"246569305f034faea4a168073e45819c\", \"description\": \"'Tis the season to cheer each other on and celebrate everybody! Exercise and sweat it out to festive tunes that will put you in the holiday spirit.\", \"difficulty\": 7.097643097643098, \"duration\": 1800, \"instructor\": \"Leanne Hainsby\", \"title\": \"30 min Holiday Ride\", \"disciplie\": \"Cycling\"}, {\"id\": \"e73d3e2b6bca4ca189699cbf81fdad26\", \"description\": \"This class is spent primarily in the saddle to give your joints a smooth ride while still giving you a good sweat. Perfect for all levels, especially those recovering from an injury.\", \"difficulty\": 6.208333333333333, \"duration\": 1800, \"instructor\": \"Sam Yo\", \"title\": \"30 min Low Impact Ride\", \"disciplie\": \"Cycling\"}, {\"id\": \"878a88167b7c4df098447e4db3853321\", \"description\": \"Run to the beat of a high-energy EDM playlist with a smile on your face in this fun run.\", \"difficulty\": 7.64, \"duration\": 1800, \"instructor\": \"Olivia Amato\", \"title\": \"30 min EDM Run\", \"disciplie\": \"Running\"}, {\"id\": \"695a051b56a646eaaecddaf1442e0128\", \"description\": \"Join Bradley on this ride, where he shares some of his own personal journey and acknowledges all those with disabilities in recognition of International Day of Persons with Disabilities.\", \"difficulty\": 6.703125, \"duration\": 1200, \"instructor\": \"Bradley Rose\", \"title\": \"20 min Day of Persons with Disabilities\", \"disciplie\": \"Cycling\"}, {\"id\": \"65481999bd1245f2aab5c890619208e1\", \"description\": \"Join Mariana in this 30-minute flow and work out to the music of iconic Latin artists whose influence paved the way for the global positioning of Latin music.\", \"difficulty\": 4.473684210526316, \"duration\": 1800, \"instructor\": \"Mariana Fern\\u00e1ndez\", \"title\": \"30 min \\u00cdconos Latinos Yoga Flow\", \"disciplie\": \"Yoga\"}, {\"id\": \"e4d9ed6b0d8144deb60da39dde187b80\", \"description\": \"Join Rad for this 20-minute class and work out to the music of iconic Latin artists whose influence paved the way for the global positioning of Latin music.\", \"difficulty\": 6.951219512195122, \"duration\": 1200, \"instructor\": \"Rad Lopez\", \"title\": \"20 min \\u00cdconos Latinos Glutes & Legs\", \"disciplie\": \"Strength\"}, {\"id\": \"5fc3791e4687447d8319bd202507e380\", \"description\": \"Run to the beat of a high-energy pop playlist with a smile on your face in this fun run.\", \"difficulty\": 7.496, \"duration\": 1800, \"instructor\": \"Selena Samuela\", \"title\": \"30 min Pop Run\", \"disciplie\": \"Running\"}, {\"id\": \"fbcf49c229fc49ab862694645ea853e8\", \"description\": \"In this power flow class, you will flow at a faster pace. Added poses and repetition of movements will help build strength. This class is recommended for students with previous yoga flow experience.\", \"difficulty\": 5.318181818181818, \"duration\": 1800, \"instructor\": \"Chelsea Jackson Roberts\", \"title\": \"30 min Power Flow\", \"disciplie\": \"Yoga\"}, {\"id\": \"6c3d05d9ae5143e8a7b38e568ba07145\", \"description\": \"Push through heart-pumping intervals mixed with power-building hills. Improve your power and your overall fitness in this high-intensity ride.\", \"difficulty\": 7.977011494252873, \"duration\": 1800, \"instructor\": \"Denis Morton\", \"title\": \"30 min HIIT & Hills Ride\", \"disciplie\": \"Cycling\"}, {\"id\": \"4a7da12de9dd41d0bf22a8bd0b04fb74\", \"description\": \"Get your glazed-donut look on in this hour-long, high-impact bootcamp that combines community, sweat and fun.\", \"difficulty\": 8.181818181818182, \"duration\": 3600, \"instructor\": \"Jess Sims\", \"title\": \"Saturday 60: Pop\", \"disciplie\": \"Tread Bootcamp\"}, {\"id\": \"53ff7ff1d25d40029abd91d835dd42e6\", \"description\": \"Take a ride through the classic tracks of the 80s while you sweat it out on the Bike.\", \"difficulty\": 7.43579766536965, \"duration\": 1800, \"instructor\": \"Robin Arz\\u00f3n\", \"title\": \"30 min 80s Ride\", \"disciplie\": \"Cycling\"}, {\"id\": \"3d889c238ec840cd8d916d08d8ea44f1\", \"description\": \"High intensity intervals training is an effective way to improve heart health, build endurance, strength and speed. Expect bursts of effort followed by active recovery throughout this HIIT run.\", \"difficulty\": 7.891891891891892, \"duration\": 1800, \"instructor\": \"Andy Speer\", \"title\": \"30 min HIIT Run\", \"disciplie\": \"Running\"}, {\"id\": \"a70fcdc51c6c4aeda7e69a5451699d5e\", \"description\": \"Improve your stamina and build aerobic endurance in this class designed around steady state, low intensity intervals.\", \"difficulty\": 7.066666666666666, \"duration\": 1800, \"instructor\": \"Ash Pryor\", \"title\": \"30 min Endurance Row\", \"disciplie\": \"Rowing\"}, {\"id\": \"ddd8a89447ec429fa381dfbf05005032\", \"description\": \"Join Camila for this 30-minute class and work out to the music of iconic Latin artists whose influence paved the way for the global positioning of Latin music.\", \"difficulty\": 7.554858934169279, \"duration\": 1800, \"instructor\": \"Camila Ram\\u00f3n\", \"title\": \"30 min \\u00cdconos Latinos Ride\", \"disciplie\": \"Cycling\"}, {\"id\": \"de82cca0e0284710928a1765b4afe4b3\", \"description\": \"Tis the season to cheer each other on and celebrate everybody! Exercise and sweat it out to festive tunes that will put you in the holiday spirit.\", \"difficulty\": 7.603829160530191, \"duration\": 1800, \"instructor\": \"Rebecca Kennedy\", \"title\": \"30 min Holiday Hike\", \"disciplie\": \"Walking\"}, {\"id\": \"cf5557dc5c6a45ec97d5c8ec10a3acdd\", \"description\": \"Join this cardio workout designed to increase strength and endurance.\", \"difficulty\": 6.473684210526316, \"duration\": 600, \"instructor\": \"Callie Gullickson\", \"title\": \"10 min HIIT Cardio\", \"disciplie\": \"Cardio\"}]\u001b[0m\u001b[32;1m\u001b[1;3m\n",
      "Invoking: `add_class_to_stack` with `{'recommended_workout': '20 min Íconos Latinos Glutes & Legs with Rad Lopez (e4d9ed6b0d8144deb60da39dde187b80), 10 min HIIT Cardio with Callie Gullickson (cf5557dc5c6a45ec97d5c8ec10a3acdd)'}`\n",
      "\n",
      "\n",
      "\u001b[0m20 min Íconos Latinos Glutes & Legs with Rad Lopez (e4d9ed6b0d8144deb60da39dde187b80), 10 min HIIT Cardio with Callie Gullickson (cf5557dc5c6a45ec97d5c8ec10a3acdd)\n",
      "\u001b[36;1m\u001b[1;3mNone\u001b[0m\u001b[32;1m\u001b[1;3mYour workout has been added to your Peloton stack. Today's session includes:\n",
      "\n",
      "1. \"20 min Íconos Latinos Glutes & Legs\" with Rad Lopez for a focused strength session on your lower body.\n",
      "2. \"10 min HIIT Cardio\" with Callie Gullickson for a burst of high-intensity cardio.\n",
      "\n",
      "Enjoy your workout! If you need any more assistance or have any other requests, feel free to ask.\u001b[0m\n",
      "\n",
      "\u001b[1m> Finished chain.\u001b[0m\n"
     ]
    },
    {
     "data": {
      "text/plain": [
       "{'input': 'Add option 2 to my stack',\n",
       " 'chat_history': [HumanMessage(content='What should my workout be today?'),\n",
       "  AIMessage(content='Based on your preferences for moderate to high difficulty strength and cycling classes, I have a couple of recommendations for today\\'s workout. Since you like your workouts to be around 30 minutes long, here are two options:\\n\\n1. **Cycling Focus:**\\n   - Start with \"20 min Intervals Ride\" with Hannah Corbin. This class has bursts of effort followed by recovery and will challenge your mind and body. (Difficulty: 7.58)\\n   - Follow up with \"10 min HIIT Cardio\" with Callie Gullickson to get a quick, high-intensity cardio session. (Difficulty: 6.47)\\n\\n2. **Strength and Cycling Combination:**\\n   - Begin with \"20 min Íconos Latinos Glutes & Legs\" with Rad Lopez for a focused strength session on your lower body. (Difficulty: 6.95)\\n   - Finish with \"10 min HIIT Cardio\" with Callie Gullickson for a burst of high-intensity cardio. (Difficulty: 6.47)\\n\\nBoth options will give you a balanced workout within your preferred time frame. Would you like to add one of these options to your Peloton stack, or do you have a different preference for today\\'s workout?')],\n",
       " 'output': 'Your workout has been added to your Peloton stack. Today\\'s session includes:\\n\\n1. \"20 min Íconos Latinos Glutes & Legs\" with Rad Lopez for a focused strength session on your lower body.\\n2. \"10 min HIIT Cardio\" with Callie Gullickson for a burst of high-intensity cardio.\\n\\nEnjoy your workout! If you need any more assistance or have any other requests, feel free to ask.',\n",
       " 'intermediate_steps': [(AgentActionMessageLog(tool='get_peloton_classes', tool_input={}, log='\\nInvoking: `get_peloton_classes` with `{}`\\n\\n\\n', message_log=[AIMessage(content='', additional_kwargs={'function_call': {'name': 'get_peloton_classes', 'arguments': '{}'}})]),\n",
       "   '[{\"id\": \"f5bf0720d7bc43a5ae0da0b17cfda975\", \"description\": \"Pick up the pace and get your body moving to an energizing 80s playlist. \", \"difficulty\": 6.564971751412429, \"duration\": 2700, \"instructor\": \"Kirsten Ferguson\", \"title\": \"45 min 80s Walk\", \"disciplie\": \"Walking\"}, {\"id\": \"c5eee5d5c0374089bdb782c385e66b9b\", \"description\": \"Ride along to some of the best tracks of the 2010s. \", \"difficulty\": 6.992063492063492, \"duration\": 1200, \"instructor\": \"Hannah Corbin\", \"title\": \"20 min 2010s Ride\", \"disciplie\": \"Cycling\"}, {\"id\": \"19be447cbee54cacb5fd380092002514\", \"description\": \"Bursts of effort followed by recovery, this ride will challenge your mind and strengthen your body inside and out.\", \"difficulty\": 7.583333333333333, \"duration\": 1200, \"instructor\": \"Hannah Corbin\", \"title\": \"20 min Intervals Ride\", \"disciplie\": \"Cycling\"}, {\"id\": \"9fc58e9c122545238cfdc461603dfee5\", \"description\": \"Split your workout 50/50 between cardio on the Tread and weights on the floor to strengthen your arms and shoulders. This high-impact class keeps your confidence soaring all day long.\", \"difficulty\": 7.071428571428571, \"duration\": 1800, \"instructor\": \"Joslyn Thompson Rule\", \"title\": \"30 min Bootcamp: Upper Body\", \"disciplie\": \"Tread Bootcamp\"}, {\"id\": \"246569305f034faea4a168073e45819c\", \"description\": \"\\'Tis the season to cheer each other on and celebrate everybody! Exercise and sweat it out to festive tunes that will put you in the holiday spirit.\", \"difficulty\": 7.097643097643098, \"duration\": 1800, \"instructor\": \"Leanne Hainsby\", \"title\": \"30 min Holiday Ride\", \"disciplie\": \"Cycling\"}, {\"id\": \"e73d3e2b6bca4ca189699cbf81fdad26\", \"description\": \"This class is spent primarily in the saddle to give your joints a smooth ride while still giving you a good sweat. Perfect for all levels, especially those recovering from an injury.\", \"difficulty\": 6.208333333333333, \"duration\": 1800, \"instructor\": \"Sam Yo\", \"title\": \"30 min Low Impact Ride\", \"disciplie\": \"Cycling\"}, {\"id\": \"878a88167b7c4df098447e4db3853321\", \"description\": \"Run to the beat of a high-energy EDM playlist with a smile on your face in this fun run.\", \"difficulty\": 7.64, \"duration\": 1800, \"instructor\": \"Olivia Amato\", \"title\": \"30 min EDM Run\", \"disciplie\": \"Running\"}, {\"id\": \"695a051b56a646eaaecddaf1442e0128\", \"description\": \"Join Bradley on this ride, where he shares some of his own personal journey and acknowledges all those with disabilities in recognition of International Day of Persons with Disabilities.\", \"difficulty\": 6.703125, \"duration\": 1200, \"instructor\": \"Bradley Rose\", \"title\": \"20 min Day of Persons with Disabilities\", \"disciplie\": \"Cycling\"}, {\"id\": \"65481999bd1245f2aab5c890619208e1\", \"description\": \"Join Mariana in this 30-minute flow and work out to the music of iconic Latin artists whose influence paved the way for the global positioning of Latin music.\", \"difficulty\": 4.473684210526316, \"duration\": 1800, \"instructor\": \"Mariana Fern\\\\u00e1ndez\", \"title\": \"30 min \\\\u00cdconos Latinos Yoga Flow\", \"disciplie\": \"Yoga\"}, {\"id\": \"e4d9ed6b0d8144deb60da39dde187b80\", \"description\": \"Join Rad for this 20-minute class and work out to the music of iconic Latin artists whose influence paved the way for the global positioning of Latin music.\", \"difficulty\": 6.951219512195122, \"duration\": 1200, \"instructor\": \"Rad Lopez\", \"title\": \"20 min \\\\u00cdconos Latinos Glutes & Legs\", \"disciplie\": \"Strength\"}, {\"id\": \"5fc3791e4687447d8319bd202507e380\", \"description\": \"Run to the beat of a high-energy pop playlist with a smile on your face in this fun run.\", \"difficulty\": 7.496, \"duration\": 1800, \"instructor\": \"Selena Samuela\", \"title\": \"30 min Pop Run\", \"disciplie\": \"Running\"}, {\"id\": \"fbcf49c229fc49ab862694645ea853e8\", \"description\": \"In this power flow class, you will flow at a faster pace. Added poses and repetition of movements will help build strength. This class is recommended for students with previous yoga flow experience.\", \"difficulty\": 5.318181818181818, \"duration\": 1800, \"instructor\": \"Chelsea Jackson Roberts\", \"title\": \"30 min Power Flow\", \"disciplie\": \"Yoga\"}, {\"id\": \"6c3d05d9ae5143e8a7b38e568ba07145\", \"description\": \"Push through heart-pumping intervals mixed with power-building hills. Improve your power and your overall fitness in this high-intensity ride.\", \"difficulty\": 7.977011494252873, \"duration\": 1800, \"instructor\": \"Denis Morton\", \"title\": \"30 min HIIT & Hills Ride\", \"disciplie\": \"Cycling\"}, {\"id\": \"4a7da12de9dd41d0bf22a8bd0b04fb74\", \"description\": \"Get your glazed-donut look on in this hour-long, high-impact bootcamp that combines community, sweat and fun.\", \"difficulty\": 8.181818181818182, \"duration\": 3600, \"instructor\": \"Jess Sims\", \"title\": \"Saturday 60: Pop\", \"disciplie\": \"Tread Bootcamp\"}, {\"id\": \"53ff7ff1d25d40029abd91d835dd42e6\", \"description\": \"Take a ride through the classic tracks of the 80s while you sweat it out on the Bike.\", \"difficulty\": 7.43579766536965, \"duration\": 1800, \"instructor\": \"Robin Arz\\\\u00f3n\", \"title\": \"30 min 80s Ride\", \"disciplie\": \"Cycling\"}, {\"id\": \"3d889c238ec840cd8d916d08d8ea44f1\", \"description\": \"High intensity intervals training is an effective way to improve heart health, build endurance, strength and speed. Expect bursts of effort followed by active recovery throughout this HIIT run.\", \"difficulty\": 7.891891891891892, \"duration\": 1800, \"instructor\": \"Andy Speer\", \"title\": \"30 min HIIT Run\", \"disciplie\": \"Running\"}, {\"id\": \"a70fcdc51c6c4aeda7e69a5451699d5e\", \"description\": \"Improve your stamina and build aerobic endurance in this class designed around steady state, low intensity intervals.\", \"difficulty\": 7.066666666666666, \"duration\": 1800, \"instructor\": \"Ash Pryor\", \"title\": \"30 min Endurance Row\", \"disciplie\": \"Rowing\"}, {\"id\": \"ddd8a89447ec429fa381dfbf05005032\", \"description\": \"Join Camila for this 30-minute class and work out to the music of iconic Latin artists whose influence paved the way for the global positioning of Latin music.\", \"difficulty\": 7.554858934169279, \"duration\": 1800, \"instructor\": \"Camila Ram\\\\u00f3n\", \"title\": \"30 min \\\\u00cdconos Latinos Ride\", \"disciplie\": \"Cycling\"}, {\"id\": \"de82cca0e0284710928a1765b4afe4b3\", \"description\": \"Tis the season to cheer each other on and celebrate everybody! Exercise and sweat it out to festive tunes that will put you in the holiday spirit.\", \"difficulty\": 7.603829160530191, \"duration\": 1800, \"instructor\": \"Rebecca Kennedy\", \"title\": \"30 min Holiday Hike\", \"disciplie\": \"Walking\"}, {\"id\": \"cf5557dc5c6a45ec97d5c8ec10a3acdd\", \"description\": \"Join this cardio workout designed to increase strength and endurance.\", \"difficulty\": 6.473684210526316, \"duration\": 600, \"instructor\": \"Callie Gullickson\", \"title\": \"10 min HIIT Cardio\", \"disciplie\": \"Cardio\"}]'),\n",
       "  (AgentActionMessageLog(tool='add_class_to_stack', tool_input={'recommended_workout': '20 min Íconos Latinos Glutes & Legs with Rad Lopez (e4d9ed6b0d8144deb60da39dde187b80), 10 min HIIT Cardio with Callie Gullickson (cf5557dc5c6a45ec97d5c8ec10a3acdd)'}, log=\"\\nInvoking: `add_class_to_stack` with `{'recommended_workout': '20 min Íconos Latinos Glutes & Legs with Rad Lopez (e4d9ed6b0d8144deb60da39dde187b80), 10 min HIIT Cardio with Callie Gullickson (cf5557dc5c6a45ec97d5c8ec10a3acdd)'}`\\n\\n\\n\", message_log=[AIMessage(content='', additional_kwargs={'function_call': {'name': 'add_class_to_stack', 'arguments': '{\"recommended_workout\":\"20 min \\\\u00cdconos Latinos Glutes & Legs with Rad Lopez (e4d9ed6b0d8144deb60da39dde187b80), 10 min HIIT Cardio with Callie Gullickson (cf5557dc5c6a45ec97d5c8ec10a3acdd)\"}'}})]),\n",
       "   None)]}"
      ]
     },
     "execution_count": 28,
     "metadata": {},
     "output_type": "execute_result"
    }
   ],
   "source": [
    "agent_executor.invoke({\"input\": \"Add option 2 to my stack\", \"chat_history\": chat_history})"
   ]
  },
  {
   "cell_type": "code",
   "execution_count": null,
   "id": "3cf8e4b4-a57d-4183-b36a-1b3f9752b579",
   "metadata": {},
   "outputs": [],
   "source": []
  }
 ],
 "metadata": {
  "kernelspec": {
   "display_name": "Python 3 (ipykernel)",
   "language": "python",
   "name": "python3"
  },
  "language_info": {
   "codemirror_mode": {
    "name": "ipython",
    "version": 3
   },
   "file_extension": ".py",
   "mimetype": "text/x-python",
   "name": "python",
   "nbconvert_exporter": "python",
   "pygments_lexer": "ipython3",
   "version": "3.11.3"
  }
 },
 "nbformat": 4,
 "nbformat_minor": 5
}
